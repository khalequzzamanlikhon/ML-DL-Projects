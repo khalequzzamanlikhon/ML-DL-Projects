{
 "cells": [
  {
   "cell_type": "code",
   "execution_count": 1,
   "metadata": {},
   "outputs": [],
   "source": [
    "import os\n",
    "import shutil  #for copying files\n",
    "import random\n",
    "os.environ[\"TF_CPP_MIN_LOG_LEVEL\"] = \"2\"\n",
    "import tensorflow as tf\n",
    "import math\n",
    "import tensorflow_hub as hub\n",
    "import numpy as np\n",
    "import matplotlib.pyplot as plt\n",
    "from tensorflow import keras\n",
    "from tensorflow.keras import layers\n",
    "from sklearn.metrics import roc_curve\n",
    "from tensorflow.keras.preprocessing.image import ImageDataGenerator"
   ]
  },
  {
   "cell_type": "code",
   "execution_count": 2,
   "metadata": {},
   "outputs": [
    {
     "data": {
      "text/plain": [
       "'2.13.0'"
      ]
     },
     "execution_count": 2,
     "metadata": {},
     "output_type": "execute_result"
    }
   ],
   "source": [
    "tf.__version__"
   ]
  },
  {
   "cell_type": "code",
   "execution_count": 3,
   "metadata": {},
   "outputs": [],
   "source": [
    "seed = 1\n",
    "random.seed(seed)\n",
    "directory = \"data/ISIC_training_images/\"\n",
    "train =\"data/train/\"\n",
    "test = \"data/test/\"\n",
    "validation =\"data/validation/\""
   ]
  },
  {
   "cell_type": "code",
   "execution_count": 4,
   "metadata": {},
   "outputs": [],
   "source": [
    "os.makedirs(train + \"benign/\")\n",
    "os.makedirs(train + \"malignant/\")\n",
    "os.makedirs(test + \"benign/\")\n",
    "os.makedirs(test + \"malignant/\")\n",
    "os.makedirs(validation + \"benign/\")\n",
    "os.makedirs(validation + \"malignant/\")"
   ]
  },
  {
   "cell_type": "code",
   "execution_count": 5,
   "metadata": {},
   "outputs": [],
   "source": [
    "test_examples = train_examples = validation_examples = 0\n",
    "\n",
    "for line in open(\"data/ISIC_labels.csv\").readlines()[1:]:\n",
    "    split_line = line.split(\",\")\n",
    "    img_file = split_line[0]\n",
    "    benign_malign = split_line[1]\n",
    "\n",
    "    random_num = random.random() #random number between 0 and 1\n",
    "\n",
    "    if random_num < 0.8:\n",
    "        location = train\n",
    "        train_examples += 1\n",
    "\n",
    "    elif random_num < 0.9:\n",
    "        location = validation\n",
    "        validation_examples += 1\n",
    "\n",
    "    else:\n",
    "        location = test\n",
    "        test_examples += 1\n",
    "\n",
    "    if int(float(benign_malign)) == 0:\n",
    "        shutil.copy(\n",
    "            \"data/ISIC_training_images/\" + img_file + \".jpg\",\n",
    "            location + \"benign/\" + img_file + \".jpg\",\n",
    "        )\n",
    "\n",
    "    elif int(float(benign_malign)) == 1:\n",
    "        shutil.copy(\n",
    "            \"data/ISIC_training_images/\" + img_file + \".jpg\",\n",
    "            location + \"malignant/\" + img_file + \".jpg\",\n",
    "        )"
   ]
  },
  {
   "cell_type": "code",
   "execution_count": 6,
   "metadata": {},
   "outputs": [
    {
     "name": "stdout",
     "output_type": "stream",
     "text": [
      "Number of training examples 20225\n",
      "Number of test examples 2555\n",
      "Number of validation examples 2551\n"
     ]
    }
   ],
   "source": [
    "print(f\"Number of training examples {train_examples}\")\n",
    "print(f\"Number of test examples {test_examples}\")\n",
    "print(f\"Number of validation examples {validation_examples}\")"
   ]
  },
  {
   "cell_type": "code",
   "execution_count": 7,
   "metadata": {},
   "outputs": [],
   "source": [
    "train_examples = 20225\n",
    "test_examples = 2551\n",
    "validation_examples = 2555\n",
    "img_height = img_width = 224\n",
    "batch_size = 32"
   ]
  },
  {
   "cell_type": "code",
   "execution_count": 8,
   "metadata": {},
   "outputs": [],
   "source": [
    "#NasNet\n",
    "model = keras.Sequential([\n",
    "   hub.KerasLayer(\"https://tfhub.dev/google/imagenet/nasnet_mobile/feature_vector/4\",\n",
    "                  trainable=True),\n",
    "   layers.Dense(1, activation=\"sigmoid\"),\n",
    "])"
   ]
  },
  {
   "cell_type": "code",
   "execution_count": 9,
   "metadata": {},
   "outputs": [],
   "source": [
    "train_datagen=ImageDataGenerator(\n",
    "    rescale=1.0/255,\n",
    "    rotation_range=15,\n",
    "    zoom_range=(.95,.95),\n",
    "    horizontal_flip=True,\n",
    "    vertical_flip=True,\n",
    "    data_format=\"channels_last\",\n",
    "    dtype=\"float32\",\n",
    ")"
   ]
  },
  {
   "cell_type": "code",
   "execution_count": 10,
   "metadata": {},
   "outputs": [],
   "source": [
    "validation_datagen=ImageDataGenerator(rescale=1.0/255,dtype=\"float32\")\n",
    "test_datagen=ImageDataGenerator(rescale=1.0/255,dtype=\"float32\")"
   ]
  },
  {
   "cell_type": "code",
   "execution_count": 11,
   "metadata": {},
   "outputs": [
    {
     "name": "stdout",
     "output_type": "stream",
     "text": [
      "Found 20225 images belonging to 2 classes.\n"
     ]
    }
   ],
   "source": [
    "train_gen=train_datagen.flow_from_directory(\n",
    "    \"data/train/\",\n",
    "    target_size=(img_height,img_width),\n",
    "    batch_size=batch_size,\n",
    "    color_mode=\"rgb\",\n",
    "    class_mode=\"binary\",\n",
    "    shuffle=True,\n",
    "    seed=123,\n",
    ")"
   ]
  },
  {
   "cell_type": "code",
   "execution_count": 12,
   "metadata": {},
   "outputs": [
    {
     "name": "stdout",
     "output_type": "stream",
     "text": [
      "Found 2551 images belonging to 2 classes.\n"
     ]
    }
   ],
   "source": [
    "validation_gen = validation_datagen.flow_from_directory(\n",
    "    \"data/validation/\",\n",
    "    target_size=(img_height, img_width),\n",
    "    batch_size=batch_size,\n",
    "    color_mode=\"rgb\",\n",
    "    class_mode=\"binary\",\n",
    "    shuffle=True,\n",
    "    seed=123,\n",
    ")"
   ]
  },
  {
   "cell_type": "code",
   "execution_count": 13,
   "metadata": {},
   "outputs": [
    {
     "name": "stdout",
     "output_type": "stream",
     "text": [
      "Found 2555 images belonging to 2 classes.\n"
     ]
    }
   ],
   "source": [
    "test_gen=test_datagen.flow_from_directory(\n",
    "    \"data/test/\",\n",
    "    target_size=(img_height,img_width),\n",
    "    batch_size=batch_size,\n",
    "    color_mode=\"rgb\",\n",
    "    class_mode=\"binary\",\n",
    "    shuffle=True,\n",
    "    seed=123,\n",
    ")"
   ]
  },
  {
   "cell_type": "code",
   "execution_count": 14,
   "metadata": {},
   "outputs": [],
   "source": [
    "METRICS = [\n",
    "    keras.metrics.BinaryAccuracy(name=\"accuracy\"),\n",
    "    keras.metrics.Precision(name=\"precision\"),\n",
    "    keras.metrics.Recall(name=\"recall\"),\n",
    "    keras.metrics.AUC(name=\"auc\"),\n",
    "]"
   ]
  },
  {
   "cell_type": "markdown",
   "metadata": {},
   "source": [
    "In this block, I defined list of evaluation metrics (METRICS) for the model. These metrics will be used to assess the model's performance during training and evaluation. The metrics include accuracy, precision, recall, and the area under the ROC curve (AUC)."
   ]
  },
  {
   "cell_type": "code",
   "execution_count": 15,
   "metadata": {},
   "outputs": [],
   "source": [
    "model.compile(\n",
    "    optimizer=keras.optimizers.Adam(learning_rate=3e-4),\n",
    "    loss=[keras.losses.BinaryCrossentropy(from_logits=False)],\n",
    "    metrics=METRICS,\n",
    ")"
   ]
  },
  {
   "cell_type": "code",
   "execution_count": 16,
   "metadata": {},
   "outputs": [
    {
     "name": "stdout",
     "output_type": "stream",
     "text": [
      "INFO:tensorflow:Assets written to: isic_model\\assets\n"
     ]
    },
    {
     "name": "stderr",
     "output_type": "stream",
     "text": [
      "INFO:tensorflow:Assets written to: isic_model\\assets\n"
     ]
    },
    {
     "name": "stdout",
     "output_type": "stream",
     "text": [
      "632/632 - 4314s - loss: 0.7423 - accuracy: 0.8565 - precision: 0.6771 - recall: 0.3834 - auc: 0.8269 - val_loss: 0.7243 - val_accuracy: 0.8604 - val_precision: 0.9667 - val_recall: 0.1991 - val_auc: 0.8803 - 4314s/epoch - 7s/step\n"
     ]
    },
    {
     "data": {
      "text/plain": [
       "<keras.src.callbacks.History at 0x2322f4c2d90>"
      ]
     },
     "execution_count": 16,
     "metadata": {},
     "output_type": "execute_result"
    }
   ],
   "source": [
    "model.fit(\n",
    "    train_gen,\n",
    "    epochs=1,\n",
    "    verbose=2,\n",
    "    steps_per_epoch=train_examples // batch_size,\n",
    "    validation_data=validation_gen,\n",
    "    validation_steps=validation_examples // batch_size,\n",
    "    callbacks=[keras.callbacks.ModelCheckpoint(\"isic_model\")],\n",
    ")\n"
   ]
  },
  {
   "cell_type": "code",
   "execution_count": 17,
   "metadata": {},
   "outputs": [],
   "source": [
    "def plot_roc(labels, data):\n",
    "    predictions = model.predict(data)\n",
    "    fp, tp, _ = roc_curve(labels, predictions)\n",
    "\n",
    "    plt.plot(100 * fp, 100 * tp)\n",
    "    plt.xlabel(\"False positives [%]\")\n",
    "    plt.ylabel(\"True positives [%]\")\n",
    "    plt.show()"
   ]
  },
  {
   "cell_type": "code",
   "execution_count": 18,
   "metadata": {},
   "outputs": [
    {
     "name": "stdout",
     "output_type": "stream",
     "text": [
      "80/80 [==============================] - 119s 1s/step\n"
     ]
    },
    {
     "data": {
      "image/png": "[encoded data removed]",
      "text/plain": [
       "<Figure size 640x480 with 1 Axes>"
      ]
     },
     "metadata": {},
     "output_type": "display_data"
    }
   ],
   "source": [
    "test_labels = np.array([])\n",
    "num_batches = 0\n",
    "\n",
    "for _, y in test_gen:\n",
    "    test_labels = np.append(test_labels, y) # assigning the test labels\n",
    "    num_batches += 1\n",
    "    if num_batches == math.ceil(test_examples / batch_size):\n",
    "        break\n",
    "\n",
    "plot_roc(test_labels, test_gen)"
   ]
  },
  {
   "cell_type": "code",
   "execution_count": 19,
   "metadata": {},
   "outputs": [
    {
     "name": "stdout",
     "output_type": "stream",
     "text": [
      "80/80 - 118s - loss: 0.7241 - accuracy: 0.8604 - precision: 0.9674 - recall: 0.2014 - auc: 0.8806 - 118s/epoch - 1s/step\n",
      "80/80 - 120s - loss: 0.7384 - accuracy: 0.8579 - precision: 0.9490 - recall: 0.2062 - auc: 0.8768 - 120s/epoch - 1s/step\n"
     ]
    },
    {
     "data": {
      "text/plain": [
       "[0.7383702993392944,\n",
       " 0.8579256534576416,\n",
       " 0.9489796161651611,\n",
       " 0.20620842278003693,\n",
       " 0.8767583966255188]"
      ]
     },
     "execution_count": 19,
     "metadata": {},
     "output_type": "execute_result"
    }
   ],
   "source": [
    "model.evaluate(validation_gen, verbose=2)\n",
    "model.evaluate(test_gen, verbose=2)"
   ]
  }
 ],
 "metadata": {
  "kernelspec": {
   "display_name": "Python 3",
   "language": "python",
   "name": "python3"
  },
  "language_info": {
   "codemirror_mode": {
    "name": "ipython",
    "version": 3
   },
   "file_extension": ".py",
   "mimetype": "text/x-python",
   "name": "python",
   "nbconvert_exporter": "python",
   "pygments_lexer": "ipython3",
   "version": "3.11.3"
  },
  "orig_nbformat": 4
 },
 "nbformat": 4,
 "nbformat_minor": 2
}
